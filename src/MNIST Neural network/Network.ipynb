{
 "cells": [
  {
   "cell_type": "markdown",
   "metadata": {
    "collapsed": true
   },
   "source": [
    "# Python import"
   ]
  },
  {
   "cell_type": "code",
   "execution_count": 1,
   "metadata": {
    "collapsed": true
   },
   "outputs": [],
   "source": [
    "import numpy as np\n",
    "import random"
   ]
  },
  {
   "cell_type": "markdown",
   "metadata": {},
   "source": [
    "# Defining the class"
   ]
  },
  {
   "cell_type": "code",
   "execution_count": 2,
   "metadata": {},
   "outputs": [],
   "source": [
    "class Network(object):\n",
    "    def __init__(self, sizes):\n",
    "        self.num_layers = len(sizes)\n",
    "        self.sizes = sizes\n",
    "        self.biases = [np.random.randn(y, 1) for y in sizes[1:]]\n",
    "        self.weights = [np.random.randn(y, x) for x, y in zip(sizes[:-1], sizes[1:])]\n",
    "        \n",
    "\n",
    "    def feedforward(self, a):\n",
    "        \"\"\"Return the output if a is a input\"\"\"\n",
    "        for b, w in zip(self.biases, self.weights):\n",
    "            a = sigmoid(np.dot(w, a) + b)\n",
    "        return a\n",
    "    \n",
    "    def SGD(self, training_data,                # tuple (x, y) x -> input,  y -> desired output\n",
    "            epochs,                              \n",
    "            mini_batch_size, \n",
    "            eta,                                # Learning rate \n",
    "            test_data=None):\n",
    "        \n",
    "        training_data = list(training_data)\n",
    "        test_data = list(test_data)\n",
    "        \n",
    "        if test_data:\n",
    "            n_test = len(test_data)\n",
    "            \n",
    "        n = len(training_data)\n",
    "        \n",
    "        for j in range(epochs):\n",
    "            random.shuffle(training_data)\n",
    "            \n",
    "            mini_batches = [\n",
    "                training_data[k:k+mini_batch_size]\n",
    "                for k in range(0, n, mini_batch_size)]\n",
    "            \n",
    "            for mini_batch in mini_batches:\n",
    "                self.update_mini_batches(mini_batch, eta)\n",
    "                \n",
    "            if test_data:\n",
    "                print(\"Epoch {0}: {1} / {2}\".format(\n",
    "                    j, self.evaluate(test_data), n_test) )\n",
    "            else:\n",
    "                print (\"Epoch {0} complete\".format(j) )\n",
    "    \n",
    "    \n",
    "    def update_mini_batches(self, mini_batch, eta):\n",
    "        nabla_b = [np.zeros(b.shape) for b in self.biases]\n",
    "        nabla_w = [np.zeros(w.shape) for w in self.weights]\n",
    "        \n",
    "        for x,y in mini_batch:\n",
    "            delta_nabla_b, delta_nabla_w = self.backprop(x, y)\n",
    "            nabla_b = [nb + dnb for nb, dnb in zip(nabla_b, delta_nabla_b)]\n",
    "            nabla_w = [nw + dnw for nw, dnw in zip(nabla_w, delta_nabla_w)]\n",
    "        \n",
    "        self.weights = [w - (eta/len(mini_batch)) * nw \n",
    "                           for w, nw in zip(self.weights, nabla_w)]\n",
    "        self.biases = [b - (eta/ len(mini_batch)) * nb\n",
    "                           for b, nb in zip(self.biases, nabla_b)]\n",
    "        \n",
    "        \n",
    "    def backprop(self, x, y):\n",
    "        \"\"\"Return a tuple ``(nabla_b, nabla_w)`` representing the\n",
    "        gradient for the cost function C_x.  ``nabla_b`` and\n",
    "        ``nabla_w`` are layer-by-layer lists of numpy arrays, similar\n",
    "        to ``self.biases`` and ``self.weights``.\"\"\"\n",
    "        nabla_b = [np.zeros(b.shape) for b in self.biases]\n",
    "        nabla_w = [np.zeros(w.shape) for w in self.weights]\n",
    "        # feedforward\n",
    "        activation = x\n",
    "        activations = [x] # list to store all the activations, layer by layer\n",
    "        zs = [] # list to store all the z vectors, layer by layer\n",
    "        for b, w in zip(self.biases, self.weights):\n",
    "            z = np.dot(w, activation)+b\n",
    "            zs.append(z)\n",
    "            activation = sigmoid(z)\n",
    "            activations.append(activation)\n",
    "        # backward pass\n",
    "        delta = self.cost_derivative(activations[-1], y) * \\\n",
    "            sigmoid_prime(zs[-1])\n",
    "        nabla_b[-1] = delta\n",
    "        nabla_w[-1] = np.dot(delta, activations[-2].transpose())\n",
    "        # Note that the variable l in the loop below is used a little\n",
    "        # differently to the notation in Chapter 2 of the book.  Here,\n",
    "        # l = 1 means the last layer of neurons, l = 2 is the\n",
    "        # second-last layer, and so on.  It's a renumbering of the\n",
    "        # scheme in the book, used here to take advantage of the fact\n",
    "        # that Python can use negative indices in lists.\n",
    "        for l in range(2, self.num_layers):\n",
    "            z = zs[-l]\n",
    "            sp = sigmoid_prime(z)\n",
    "            delta = np.dot(self.weights[-l+1].transpose(), delta) * sp\n",
    "            nabla_b[-l] = delta\n",
    "            nabla_w[-l] = np.dot(delta, activations[-l-1].transpose())\n",
    "        return (nabla_b, nabla_w)\n",
    "    \n",
    "    \n",
    "    def evaluate(self, test_data):\n",
    "        \"\"\"Return the number of test inputs for which the neural\n",
    "        network outputs the correct result. Note that the neural\n",
    "        network's output is assumed to be the index of whichever\n",
    "        neuron in the final layer has the highest activation.\"\"\"\n",
    "        test_results = [(np.argmax(self.feedforward(x)), y)\n",
    "                        for (x, y) in test_data]\n",
    "        return sum(int(x == y) for (x, y) in test_results)\n",
    "        \n",
    "    def cost_derivative(self, output_activations, y):\n",
    "        return (output_activations - y)"
   ]
  },
  {
   "cell_type": "code",
   "execution_count": 3,
   "metadata": {},
   "outputs": [
    {
     "name": "stdout",
     "output_type": "stream",
     "text": [
      "Sizes : \n",
      "[2, 3, 1]\n",
      "Biases: \n",
      "[array([[-0.69590207],\n",
      "       [-0.17649363],\n",
      "       [ 0.72327572]]), array([[ 0.65822717]])]\n",
      "Weights: \n",
      "[array([[-1.3227911 , -0.26398833],\n",
      "       [ 3.1871151 ,  0.51691608],\n",
      "       [-2.28703478,  0.90616523]]), array([[ 1.08771078,  0.12483569, -1.85783658]])]\n"
     ]
    }
   ],
   "source": [
    "# test the Network structure\n",
    "n = Network([2, 3, 1])\n",
    "\n",
    "print(\"Sizes : \")\n",
    "print(n.sizes)\n",
    "print(\"Biases: \")\n",
    "print(n.biases)\n",
    "print(\"Weights: \")\n",
    "print(n.weights)"
   ]
  },
  {
   "cell_type": "markdown",
   "metadata": {},
   "source": [
    "# Implementing network helper functions"
   ]
  },
  {
   "cell_type": "code",
   "execution_count": 4,
   "metadata": {
    "collapsed": true
   },
   "outputs": [],
   "source": [
    "def sigmoid(z):\n",
    "    return 1.0 / (1.0 + np.exp(-z))\n",
    "\n",
    "def sigmoid_prime(z):\n",
    "    \"\"\"Deriavtive of the sigmoid function\"\"\"\n",
    "    return sigmoid(z) * (1 - sigmoid(z))"
   ]
  },
  {
   "cell_type": "markdown",
   "metadata": {},
   "source": [
    "# Loading data and training the model"
   ]
  },
  {
   "cell_type": "code",
   "execution_count": 5,
   "metadata": {},
   "outputs": [],
   "source": [
    "import mnist_loader\n",
    "training_data, validation_data, test_data = mnist_loader.load_data_wrapper()"
   ]
  },
  {
   "cell_type": "code",
   "execution_count": 6,
   "metadata": {
    "collapsed": true
   },
   "outputs": [],
   "source": [
    "# Creating a Neural Network\n",
    "net = Network([784, 30, 10])"
   ]
  },
  {
   "cell_type": "code",
   "execution_count": 7,
   "metadata": {},
   "outputs": [
    {
     "name": "stdout",
     "output_type": "stream",
     "text": [
      "Epoch 0: 9042 / 10000\n",
      "Epoch 1: 9206 / 10000\n",
      "Epoch 2: 9299 / 10000\n",
      "Epoch 3: 9303 / 10000\n",
      "Epoch 4: 9355 / 10000\n",
      "Epoch 5: 9393 / 10000\n",
      "Epoch 6: 9406 / 10000\n",
      "Epoch 7: 9419 / 10000\n",
      "Epoch 8: 9455 / 10000\n",
      "Epoch 9: 9407 / 10000\n",
      "Epoch 10: 9451 / 10000\n",
      "Epoch 11: 9454 / 10000\n",
      "Epoch 12: 9484 / 10000\n",
      "Epoch 13: 9461 / 10000\n",
      "Epoch 14: 9473 / 10000\n",
      "Epoch 15: 9486 / 10000\n",
      "Epoch 16: 9468 / 10000\n",
      "Epoch 17: 9478 / 10000\n",
      "Epoch 18: 9477 / 10000\n",
      "Epoch 19: 9476 / 10000\n",
      "Epoch 20: 9486 / 10000\n",
      "Epoch 21: 9485 / 10000\n",
      "Epoch 22: 9508 / 10000\n",
      "Epoch 23: 9504 / 10000\n",
      "Epoch 24: 9490 / 10000\n",
      "Epoch 25: 9498 / 10000\n",
      "Epoch 26: 9507 / 10000\n",
      "Epoch 27: 9490 / 10000\n",
      "Epoch 28: 9522 / 10000\n",
      "Epoch 29: 9506 / 10000\n"
     ]
    }
   ],
   "source": [
    "# Use Socistic gradient to learn from mnist dataset\n",
    "net.SGD(training_data, 30, 10, 3.0, test_data=test_data)        # Here the learning rate is 3.0"
   ]
  },
  {
   "cell_type": "code",
   "execution_count": null,
   "metadata": {
    "collapsed": true
   },
   "outputs": [],
   "source": [
    ""
   ]
  }
 ],
 "metadata": {
  "kernelspec": {
   "display_name": "Python [conda root]",
   "language": "python",
   "name": "conda-root-py"
  },
  "language_info": {
   "codemirror_mode": {
    "name": "ipython",
    "version": 3.0
   },
   "file_extension": ".py",
   "mimetype": "text/x-python",
   "name": "python",
   "nbconvert_exporter": "python",
   "pygments_lexer": "ipython3",
   "version": "3.5.3"
  }
 },
 "nbformat": 4,
 "nbformat_minor": 0
}