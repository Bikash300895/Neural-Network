{
 "cells": [
  {
   "cell_type": "code",
   "execution_count": 1,
   "metadata": {
    "collapsed": true
   },
   "outputs": [],
   "source": [
    "# python import\n",
    "import numpy as np\n",
    "import matplotlib.pyplot as plt\n",
    "from matplotlib.colors import colorConverter, ListedColormap\n",
    "from mpl_toolkits.mplot3d import Axes3D\n",
    "from matplotlib import cm       # ColorMaps\n",
    "%matplotlib inline\n",
    "\n",
    "np.random.seed(seed=1)\n"
   ]
  },
  {
   "cell_type": "markdown",
   "metadata": {},
   "source": [
    "# Define the dataset"
   ]
  },
  {
   "cell_type": "code",
   "execution_count": 2,
   "metadata": {
    "collapsed": true
   },
   "outputs": [],
   "source": [
    "\n",
    "number_of_samples_per_class = 20\n",
    "blue_mean = [0]\n",
    "red_left_mean = [-2]\n",
    "red_right_mean = [2]\n",
    "\n",
    "std_dev = 0.5\n",
    "\n",
    "# generate sample from both classes\n",
    "x_blue = np.random.randn(number_of_samples_per_class, 1) * std_dev + blue_mean\n",
    "x_red_left = np.random.randn(int(number_of_samples_per_class/2), 1) * std_dev + red_left_mean\n",
    "x_red_right = np.random.randn(int(number_of_samples_per_class/2), 1) * std_dev + red_right_mean\n",
    "\n",
    "# Marge samples in set of input variables x, and corresponding set of output variables t\n",
    "x = np.vstack((x_blue, x_red_left, x_red_right))\n",
    "t = np.vstack((np.ones((x_blue.shape[0],1)), \n",
    "               np.zeros((x_red_left.shape[0],1)), \n",
    "               np.zeros((x_red_right.shape[0], 1))))\n"
   ]
  },
  {
   "cell_type": "markdown",
   "metadata": {},
   "source": [
    "# Plot the samples from both classes as lines on a 1D space"
   ]
  },
  {
   "cell_type": "code",
   "execution_count": 3,
   "metadata": {},
   "outputs": [
    {
     "data": {
      "image/png": "[encoded data removed]",
      "text/plain": [
       "<matplotlib.figure.Figure at 0x1d36e218438>"
      ]
     },
     "metadata": {},
     "output_type": "display_data"
    }
   ],
   "source": [
    "\n",
    "plt.figure(figsize=(8, 0.5))\n",
    "plt.xlim(-3, 3)\n",
    "plt.ylim(-1,1)\n",
    "# plot samples\n",
    "plt.plot(x_blue, np.zeros_like(x_blue), 'b|', ms=30)\n",
    "plt.plot(x_red_left, np.zeros_like(x_red_left), 'r|', ms = 30) \n",
    "plt.plot(x_red_right, np.zeros_like(x_red_right), 'r|', ms = 30) \n",
    "plt.gca().axes.get_yaxis().set_visible(False)\n",
    "plt.title('Input samples from the blue and red class')\n",
    "plt.xlabel('$x$', fontsize=15)\n",
    "plt.show()"
   ]
  },
  {
   "cell_type": "code",
   "execution_count": 4,
   "metadata": {
    "collapsed": true
   },
   "outputs": [],
   "source": [
    "# define the rbf function\n",
    "def rbf(z):\n",
    "    return np.exp(-z**2)"
   ]
  },
  {
   "cell_type": "code",
   "execution_count": 6,
   "metadata": {},
   "outputs": [
    {
     "data": {
      "image/png": "[encoded data removed]",
      "text/plain": [
       "<matplotlib.figure.Figure at 0x1d36e5932e8>"
      ]
     },
     "metadata": {},
     "output_type": "display_data"
    }
   ],
   "source": [
    "# plot the rbf function\n",
    "z = np.linspace(-6, 6, 100)\n",
    "plt.plot(z, rbf(z), 'b-')\n",
    "plt.xlabel('$z$', fontsize=15)\n",
    "plt.ylabel('$e^{-z^2}$', fontsize=15)\n",
    "plt.title('RBF function')\n",
    "plt.grid()\n",
    "plt.show()"
   ]
  },
  {
   "cell_type": "code",
   "execution_count": null,
   "metadata": {
    "collapsed": true
   },
   "outputs": [],
   "source": []
  }
 ],
 "metadata": {
  "kernelspec": {
   "display_name": "Python [conda root]",
   "language": "python",
   "name": "conda-root-py"
  },
  "language_info": {
   "codemirror_mode": {
    "name": "ipython",
    "version": 3
   },
   "file_extension": ".py",
   "mimetype": "text/x-python",
   "name": "python",
   "nbconvert_exporter": "python",
   "pygments_lexer": "ipython3",
   "version": "3.5.3"
  }
 },
 "nbformat": 4,
 "nbformat_minor": 1
}
